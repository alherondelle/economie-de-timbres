{
 "cells": [
  {
   "cell_type": "code",
   "execution_count": 114,
   "id": "600fdad2",
   "metadata": {},
   "outputs": [],
   "source": [
    "import smtplib\n",
    "import getpass\n",
    "from bs4 import BeautifulSoup\n",
    "import os\n",
    "import re\n",
    "from email.mime.text import MIMEText\n",
    "from email.mime.multipart import MIMEMultipart\n",
    "from email.message import EmailMessage\n",
    "import pandas as pd"
   ]
  },
  {
   "cell_type": "markdown",
   "id": "f2e0c4bb",
   "metadata": {},
   "source": [
    "## INFO SMTP DE L'ECOLE"
   ]
  },
  {
   "cell_type": "code",
   "execution_count": 101,
   "id": "191ca665",
   "metadata": {},
   "outputs": [],
   "source": [
    "SMTP_SERVER = \"smtp.minesparis.psl.eu\"\n",
    "SMTP_PORT = 587\n",
    "EMAIL_TO='agathe.lherondelle@gmail.com'"
   ]
  },
  {
   "cell_type": "markdown",
   "id": "03cd7374",
   "metadata": {},
   "source": [
    "## INFO DE L'EXPEDITEUR"
   ]
  },
  {
   "cell_type": "code",
   "execution_count": 31,
   "id": "5ac66f90",
   "metadata": {},
   "outputs": [
    {
     "name": "stdout",
     "output_type": "stream",
     "text": [
      "········\n"
     ]
    }
   ],
   "source": [
    "SMTP_USERNAME = \"agathe.lherondelle@minesparis.psl.eu\"\n",
    "EMAIL_FROM = SMTP_USERNAME\n",
    "SMTP_PASSWORD = getpass.getpass()"
   ]
  },
  {
   "cell_type": "code",
   "execution_count": null,
   "id": "9f549cb9",
   "metadata": {},
   "outputs": [],
   "source": []
  },
  {
   "cell_type": "markdown",
   "id": "e28e7e25",
   "metadata": {},
   "source": [
    "## HTML TO CORPS DU MESSAGE"
   ]
  },
  {
   "cell_type": "code",
   "execution_count": 151,
   "id": "a0a4aaa1",
   "metadata": {},
   "outputs": [],
   "source": [
    "html = open(\"template_mieux.html\").read()\n",
    "css = open(\"style_mieux.css\").read()\n",
    "balise = r'<link rel=\"stylesheet\" href=\"style_mieux.css\">'\n",
    "html = re.sub(balise, f'<style>{css}</style>', html)"
   ]
  },
  {
   "cell_type": "code",
   "execution_count": 152,
   "id": "5ca8ff45",
   "metadata": {
    "scrolled": true
   },
   "outputs": [],
   "source": [
    "data = pd.DataFrame({'names': ['Louis', 'Aymeric', 'Réda', 'Coucou moi'], 'emails': ['louis.repussard@mines-paristech.fr', 'aymeric.vincotte@mines-paristech.fr', 'reda.chlieh@mines-paristech.fr', 'agathe.lherondelle@mines-paristech.fr']})\n",
    "\n",
    "#data = pd.DataFrame({'names': ['Coucou moi'], 'emails': ['agathe.lherondelle@mines-paristech.fr']})\n"
   ]
  },
  {
   "cell_type": "code",
   "execution_count": 153,
   "id": "d00eb3ae",
   "metadata": {},
   "outputs": [],
   "source": [
    "## Info a compléter selon la manière dont on récolte les infos + qu'on envoie le template"
   ]
  },
  {
   "cell_type": "code",
   "execution_count": 154,
   "id": "efc324c8",
   "metadata": {},
   "outputs": [],
   "source": [
    "for i, row in data.iterrows():\n",
    "    name_du_gars = row['names']\n",
    "    EMAIL_TO = row['emails']\n",
    "    perso_html = re.sub(r'Machin Chose', name_du_gars, html)\n",
    "    EMAIL_SUBJECT = f'Mines Paris - Célébrons {name_du_gars} ensemble !'\n",
    "    msg = MIMEMultipart()\n",
    "    msg['From'] = EMAIL_FROM\n",
    "    msg['To'] = EMAIL_TO\n",
    "    msg['Subject'] = EMAIL_SUBJECT\n",
    "    msg.attach(MIMEText(perso_html, 'html'))\n",
    "    with smtplib.SMTP(SMTP_SERVER, SMTP_PORT) as s:\n",
    "        s.starttls()\n",
    "        s.login(SMTP_USERNAME, SMTP_PASSWORD)\n",
    "        s.sendmail(EMAIL_FROM, EMAIL_TO, msg.as_string())"
   ]
  },
  {
   "cell_type": "code",
   "execution_count": null,
   "id": "fdce8e65",
   "metadata": {},
   "outputs": [],
   "source": []
  },
  {
   "cell_type": "code",
   "execution_count": null,
   "id": "a8e84afd",
   "metadata": {},
   "outputs": [],
   "source": []
  }
 ],
 "metadata": {
  "kernelspec": {
   "display_name": "Python 3",
   "language": "python",
   "name": "python3"
  },
  "language_info": {
   "codemirror_mode": {
    "name": "ipython",
    "version": 3
   },
   "file_extension": ".py",
   "mimetype": "text/x-python",
   "name": "python",
   "nbconvert_exporter": "python",
   "pygments_lexer": "ipython3",
   "version": "3.7.9"
  }
 },
 "nbformat": 4,
 "nbformat_minor": 5
}
