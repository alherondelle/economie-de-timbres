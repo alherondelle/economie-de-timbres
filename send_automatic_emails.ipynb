{
 "cells": [
  {
   "cell_type": "code",
   "execution_count": 39,
   "id": "600fdad2",
   "metadata": {},
   "outputs": [],
   "source": [
    "import smtplib\n",
    "import getpass\n",
    "from bs4 import BeautifulSoup\n",
    "import os\n",
    "import re\n",
    "from email.mime.text import MIMEText\n",
    "from email.mime.multipart import MIMEMultipart\n",
    "from email.message import EmailMessage"
   ]
  },
  {
   "cell_type": "markdown",
   "id": "f2e0c4bb",
   "metadata": {},
   "source": [
    "## INFO SMTP DE L'ECOLE"
   ]
  },
  {
   "cell_type": "code",
   "execution_count": 54,
   "id": "191ca665",
   "metadata": {},
   "outputs": [],
   "source": [
    "SMTP_SERVER = \"smtp.minesparis.psl.eu\"\n",
    "SMTP_PORT = 587\n",
    "EMAIL_TO='agathe.lherondelle@gmail.com'"
   ]
  },
  {
   "cell_type": "markdown",
   "id": "03cd7374",
   "metadata": {},
   "source": [
    "## INFO DE L'EXPEDITEUR"
   ]
  },
  {
   "cell_type": "code",
   "execution_count": 41,
   "id": "5ac66f90",
   "metadata": {},
   "outputs": [
    {
     "name": "stdout",
     "output_type": "stream",
     "text": [
      "········\n"
     ]
    }
   ],
   "source": [
    "SMTP_USERNAME = \"agathe.lherondelle@minesparis.psl.eu\"\n",
    "EMAIL_FROM = SMTP_USERNAME\n",
    "SMTP_PASSWORD = getpass.getpass()"
   ]
  },
  {
   "cell_type": "markdown",
   "id": "e28e7e25",
   "metadata": {},
   "source": [
    "## HTML TO CORPS DU MESSAGE"
   ]
  },
  {
   "cell_type": "code",
   "execution_count": 55,
   "id": "a0a4aaa1",
   "metadata": {},
   "outputs": [],
   "source": [
    "html = open(\"template.html\").read()\n",
    "css = open(\"style.css\").read()\n",
    "balise = r'<link rel=\"stylesheet\" href=\"style.css\">'\n",
    "html = re.sub(balise, f'<style>{css}</style>', html)"
   ]
  },
  {
   "cell_type": "code",
   "execution_count": 56,
   "id": "d00eb3ae",
   "metadata": {},
   "outputs": [],
   "source": [
    "## Info a compléter selon la manière dont on récolte les infos + qu'on envoie le template"
   ]
  },
  {
   "cell_type": "code",
   "execution_count": 58,
   "id": "888e53f4",
   "metadata": {},
   "outputs": [],
   "source": [
    "name_du_gars = 'Caca prout'\n",
    "perso_html = re.sub(r'Machin Chose', name_du_gars, html)"
   ]
  },
  {
   "cell_type": "code",
   "execution_count": 59,
   "id": "efc324c8",
   "metadata": {},
   "outputs": [],
   "source": [
    "EMAIL_SUBJECT = f'Mines Paris - Célébrons {name_du_gars} ensemble !'\n",
    "msg = MIMEMultipart()\n",
    "msg['From'] = EMAIL_FROM\n",
    "msg['To'] = EMAIL_TO\n",
    "msg['Subject'] = EMAIL_SUBJECT\n",
    "msg.attach(MIMEText(perso_html, 'html'))\n",
    "with smtplib.SMTP(SMTP_SERVER, SMTP_PORT) as s:\n",
    "    s.starttls()\n",
    "    s.login(SMTP_USERNAME, SMTP_PASSWORD)\n",
    "    s.sendmail(EMAIL_FROM, EMAIL_TO, msg.as_string())"
   ]
  }
 ],
 "metadata": {
  "kernelspec": {
   "display_name": "Python 3",
   "language": "python",
   "name": "python3"
  },
  "language_info": {
   "codemirror_mode": {
    "name": "ipython",
    "version": 3
   },
   "file_extension": ".py",
   "mimetype": "text/x-python",
   "name": "python",
   "nbconvert_exporter": "python",
   "pygments_lexer": "ipython3",
   "version": "3.7.9"
  }
 },
 "nbformat": 4,
 "nbformat_minor": 5
}
